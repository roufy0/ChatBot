{
 "cells": [
  {
   "cell_type": "code",
   "execution_count": 2,
   "metadata": {},
   "outputs": [],
   "source": [
    "import openai\n",
    "openai.api_key=''"
   ]
  },
  {
   "cell_type": "code",
   "execution_count": 7,
   "metadata": {},
   "outputs": [
    {
     "name": "stdout",
     "output_type": "stream",
     "text": [
      "ChatCompletion(id='chatcmpl-8nZeUWDxNLzJjRobszNS4QOF4W1jb', choices=[Choice(finish_reason='stop', index=0, logprobs=None, message=ChatCompletionMessage(content=\"To output all files in a directory using Python, you can use the `os` module. Here's an example:\\n\\n```python\\nimport os\\n\\n# Specify the directory path\\ndirectory = '/path/to/directory'\\n\\n# Iterate over all files in the directory\\nfor filename in os.listdir(directory):\\n    if os.path.isfile(os.path.join(directory, filename)):\\n        print(filename)\\n```\\n\\nIn this example, change the `directory` variable to the path of the directory you want to list files from. The `os.listdir()` function returns a list of all files and directories in the specified directory. By using `os.path.isfile()` to check if an item in the directory is a file, you can ensure that only files are displayed in the output.\", role='assistant', function_call=None, tool_calls=None))], created=1706825810, model='gpt-3.5-turbo-0613', object='chat.completion', system_fingerprint=None, usage=CompletionUsage(completion_tokens=151, prompt_tokens=19, total_tokens=170))\n"
     ]
    }
   ],
   "source": [
    "completion=openai.chat.completions.create(\n",
    "    model='gpt-3.5-turbo',\n",
    "    messages=[\n",
    "        {'role':\"user\",\n",
    "               \"content\":\"How do I output all files in a directory using Python?\"\n",
    "               },],\n",
    "    \n",
    ")\n",
    "print(completion)"
   ]
  },
  {
   "cell_type": "code",
   "execution_count": 8,
   "metadata": {},
   "outputs": [
    {
     "name": "stdout",
     "output_type": "stream",
     "text": [
      "To output all files in a directory using Python, you can use the `os` module. Here's an example:\n",
      "\n",
      "```python\n",
      "import os\n",
      "\n",
      "# Specify the directory path\n",
      "directory = '/path/to/directory'\n",
      "\n",
      "# Iterate over all files in the directory\n",
      "for filename in os.listdir(directory):\n",
      "    if os.path.isfile(os.path.join(directory, filename)):\n",
      "        print(filename)\n",
      "```\n",
      "\n",
      "In this example, change the `directory` variable to the path of the directory you want to list files from. The `os.listdir()` function returns a list of all files and directories in the specified directory. By using `os.path.isfile()` to check if an item in the directory is a file, you can ensure that only files are displayed in the output.\n"
     ]
    }
   ],
   "source": [
    "reply_content=completion.choices[0].message.content\n",
    "print(reply_content)"
   ]
  },
  {
   "cell_type": "code",
   "execution_count": 14,
   "metadata": {},
   "outputs": [
    {
     "name": "stdout",
     "output_type": "stream",
     "text": [
      "User's input was:   what is the circumference of the moon\n"
     ]
    }
   ],
   "source": [
    "message_history=[]\n",
    "user_input=input(\">: \")\n",
    "\n",
    "print(\"User's input was: \",user_input)"
   ]
  },
  {
   "cell_type": "code",
   "execution_count": 15,
   "metadata": {},
   "outputs": [],
   "source": [
    "message_history.append({'role':'user','content':user_input})"
   ]
  },
  {
   "cell_type": "code",
   "execution_count": 16,
   "metadata": {},
   "outputs": [
    {
     "name": "stdout",
     "output_type": "stream",
     "text": [
      "The circumference of the moon is approximately 10,917 kilometers (6,786 miles).\n"
     ]
    }
   ],
   "source": [
    "completion=openai.chat.completions.create(\n",
    "    model='gpt-3.5-turbo',\n",
    "    messages=message_history\n",
    "    \n",
    ")\n",
    "reply_content=completion.choices[0].message.content\n",
    "print(reply_content)"
   ]
  },
  {
   "cell_type": "code",
   "execution_count": 17,
   "metadata": {},
   "outputs": [],
   "source": [
    "message_history.append({'role':'assistant','content':reply_content})"
   ]
  },
  {
   "cell_type": "code",
   "execution_count": 19,
   "metadata": {},
   "outputs": [
    {
     "name": "stdout",
     "output_type": "stream",
     "text": [
      "User's input was:  which moon is that in reference to \n",
      "I apologize for the confusion. The circumference mentioned is for Earth's moon, also known as \"the Moon.\"\n"
     ]
    }
   ],
   "source": [
    "user_input=input(\">: \")\n",
    "\n",
    "print(\"User's input was: \",user_input)\n",
    "message_history.append({'role':'user','content':user_input})\n",
    "completion=openai.chat.completions.create(\n",
    "    model='gpt-3.5-turbo',\n",
    "    messages=message_history\n",
    "    \n",
    ")\n",
    "reply_content=completion.choices[0].message.content\n",
    "print(reply_content)"
   ]
  },
  {
   "cell_type": "code",
   "execution_count": 23,
   "metadata": {},
   "outputs": [
    {
     "name": "stdout",
     "output_type": "stream",
     "text": [
      "User's input was:  how to define a function in python\n",
      "\n",
      "To define a function in Python, you need to follow these steps:\n",
      "\n",
      "1. Use the `def` keyword, followed by the function name and parentheses `()`.\n",
      "2. Inside the parentheses, you can specify any number of parameters separated by commas. These parameters act as placeholders for the values that will be passed to the function.\n",
      "3. After the closing parenthesis, use a colon `:` to indicate the start of the function body.\n",
      "4. Indent the code within the function body to define the actions the function will perform.\n",
      "5. Optionally, include a `return` statement to specify the value or values the function will return when called. If omitted, the function will return `None` by default.\n",
      "\n",
      "Here's an example of a function that calculates the square of a number:\n",
      "\n",
      "```python\n",
      "def square(number):\n",
      "    result = number ** 2\n",
      "    return result\n",
      "```\n",
      "\n",
      "In this example, the function is named `square` and it takes one parameter called `number`. The function calculates the square of `number` by raising it to the power of 2 (`number ** 2`). Finally, it returns the result.\n",
      "\n",
      "To call this function and use its result, you can do the following:\n",
      "\n",
      "```python\n",
      "result = square(5)\n",
      "print(result)  # Output: 25\n",
      "```\n",
      "\n",
      "Here, we call the `square` function and pass `5` as the argument. The function calculates the square of `5` and returns `25`, which is then assigned to the variable `result` and printed.\n",
      "\n",
      "User's input was:  what is operating system means\n",
      "\n",
      "An operating system (OS) is a software component that manages computer hardware and software resources and provides various services for computer programs. It acts as an intermediary between the user and the computer hardware, allowing users to interact with the computer system and run applications. The operating system performs tasks such as managing memory, scheduling processes, handling input and output, controlling file systems, and facilitating communication between software and hardware components. Examples of popular operating systems include Windows, macOS, Linux, and Android.\n",
      "\n"
     ]
    }
   ],
   "source": [
    "message_history=[]\n",
    "def chat(inp,role=\"user\"):\n",
    "    message_history.append({'role':'user','content':inp})\n",
    "    \n",
    "    completion=openai.chat.completions.create(\n",
    "    model='gpt-3.5-turbo',\n",
    "    messages=message_history)\n",
    "    \n",
    "    reply_content=completion.choices[0].message.content\n",
    "    print(reply_content)\n",
    "    message_history.append({'role':'assistant','content':reply_content})\n",
    "    return reply_content\n",
    "   \n",
    "for i in range(2):\n",
    "    user_input=input(\">: \")\n",
    "    print(\"User's input was: \",user_input)\n",
    "    print()\n",
    "    chat(user_input)\n",
    "    print()\n",
    "    \n",
    "    \n",
    "    "
   ]
  }
 ],
 "metadata": {
  "kernelspec": {
   "display_name": "base",
   "language": "python",
   "name": "python3"
  },
  "language_info": {
   "codemirror_mode": {
    "name": "ipython",
    "version": 3
   },
   "file_extension": ".py",
   "mimetype": "text/x-python",
   "name": "python",
   "nbconvert_exporter": "python",
   "pygments_lexer": "ipython3",
   "version": "3.11.5"
  }
 },
 "nbformat": 4,
 "nbformat_minor": 2
}
